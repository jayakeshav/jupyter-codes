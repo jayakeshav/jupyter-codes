{
 "cells": [
  {
   "cell_type": "code",
   "execution_count": 2,
   "id": "4b66cec1",
   "metadata": {},
   "outputs": [],
   "source": [
    "import pandas as pd\n",
    "import os"
   ]
  },
  {
   "cell_type": "code",
   "execution_count": 3,
   "id": "6d3a7096",
   "metadata": {},
   "outputs": [],
   "source": [
    "idle_directory = \"../data/combined data files/idle/\"\n",
    "attack_directory = \"../data/combined data files/spectre/\"\n",
    "\n",
    "idle_files = [file for file in os.listdir(idle_directory)]\n",
    "attack_files = [file for file in os.listdir(attack_directory)]"
   ]
  },
  {
   "cell_type": "code",
   "execution_count": 5,
   "id": "347989ba",
   "metadata": {},
   "outputs": [
    {
     "data": {
      "text/plain": [
       "'../data/combined data files/idle/Idle_20241118_113051.csv'"
      ]
     },
     "execution_count": 5,
     "metadata": {},
     "output_type": "execute_result"
    }
   ],
   "source": [
    "file = idle_directory + idle_files[0]\n",
    "file"
   ]
  },
  {
   "cell_type": "code",
   "execution_count": 11,
   "id": "3948c364",
   "metadata": {},
   "outputs": [
    {
     "data": {
      "text/plain": [
       "['index',\n",
       " 'Offcore All Data Reads LLC Any Response',\n",
       " 'Offcore All Data Reads LLC Miss to DRAM',\n",
       " 'Offcore Demand Data Reads LLC Miss to DRAM',\n",
       " 'Offcore Demand Data Reads LLC Hit Any Response',\n",
       " 'Branch Instructions',\n",
       " 'Branch Misses',\n",
       " 'Cache References',\n",
       " 'Cache Misses',\n",
       " 'L1 Data Cache Loads',\n",
       " 'L1 Data Cache Load Misses',\n",
       " 'Executed Branch Instructions',\n",
       " 'Executed Conditional Branches',\n",
       " 'Executed Branch Mispredictions',\n",
       " 'Executed Conditional Branch Mispredictions',\n",
       " 'Retired Branch Mispredictions',\n",
       " 'Retired Near-Taken Branch Mispredictions',\n",
       " 'L2 All Demand Data Reads',\n",
       " 'L2 Demand Data Read Hits',\n",
       " 'Retired Branch Instructions',\n",
       " 'Retired Conditional Branches']"
      ]
     },
     "execution_count": 11,
     "metadata": {},
     "output_type": "execute_result"
    }
   ],
   "source": [
    "df = pd.read_csv(file)\n",
    "df.columns.tolist()"
   ]
  },
  {
   "cell_type": "code",
   "execution_count": null,
   "id": "e7d56b1f",
   "metadata": {},
   "outputs": [],
   "source": []
  }
 ],
 "metadata": {
  "kernelspec": {
   "display_name": "Python (GPU)",
   "language": "python",
   "name": "gpu_env"
  },
  "language_info": {
   "codemirror_mode": {
    "name": "ipython",
    "version": 3
   },
   "file_extension": ".py",
   "mimetype": "text/x-python",
   "name": "python",
   "nbconvert_exporter": "python",
   "pygments_lexer": "ipython3",
   "version": "3.11.7"
  }
 },
 "nbformat": 4,
 "nbformat_minor": 5
}
